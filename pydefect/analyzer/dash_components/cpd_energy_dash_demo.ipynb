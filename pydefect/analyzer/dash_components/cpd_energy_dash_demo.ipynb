{
 "cells": [
  {
   "cell_type": "code",
   "execution_count": 5,
   "metadata": {
    "collapsed": true,
    "pycharm": {
     "name": "#%%\n"
    }
   },
   "outputs": [],
   "source": [
    "from crystal_toolkit.helpers.layouts import Columns, Column\n",
    "from crystal_toolkit.settings import SETTINGS\n",
    "from jupyter_dash import JupyterDash\n",
    "from pydefect.analyzer.calc_results import CalcResults\n",
    "from pydefect.analyzer.dash_components.cpd_energy_dash import CpdEnergyComponent\n",
    "from pydefect.chem_pot_diag.chem_pot_diag import ChemPotDiag, CpdPlotInfo, \\\n",
    "    CompositionEnergy\n",
    "from pydefect.corrections.manual_correction import ManualCorrection\n",
    "from pydefect.input_maker.defect_entry import DefectEntry\n",
    "from pymatgen import Composition, Structure, Lattice, Element\n",
    "import dash_html_components as html\n",
    "import crystal_toolkit.components as ctc\n",
    "from dash.dependencies import Input, Output, State\n",
    "import json\n",
    "\n",
    "app = JupyterDash(suppress_callback_exceptions=True,\n",
    "               assets_folder=SETTINGS.ASSETS_PATH)\n",
    "from vise.analyzer.band_edge_properties import BandEdge\n",
    "\n",
    "comp_energies = [\n",
    "    CompositionEnergy(Composition(\"Mg\"), 0.0, \"a\"),\n",
    "    CompositionEnergy(Composition(\"Ca\"), 0.0, \"a\"),\n",
    "    CompositionEnergy(Composition(\"Sr\"), 0.0, \"a\"),\n",
    "    CompositionEnergy(Composition(\"O\"), 0.0, \"a\"),\n",
    "    CompositionEnergy(Composition(\"H\"), 0.0, \"a\"),\n",
    "#    CompositionEnergy(Composition(\"MgCaO3\"), -100.0, \"a\"),\n",
    "    CompositionEnergy(Composition(\"MgCaSrO3\"), -100.0, \"a\"),\n",
    "]\n",
    "#cpd = ChemPotDiag(comp_energies, target=Composition(\"MgCaO3\"))\n",
    "cpd = ChemPotDiag(comp_energies, target=Composition(\"MgCaSrO3\"))\n",
    "cpd_plot_info = CpdPlotInfo(cpd)"
   ]
  },
  {
   "cell_type": "code",
   "execution_count": 2,
   "outputs": [
    {
     "name": "stdout",
     "output_type": "stream",
     "text": [
      "[Element Mg, Element Ca, Element Sr, Element O]\n",
      "4\n",
      "{'A': array([   0., -100.,    0.,    0.]), 'B': array([   0.,    0., -100.,    0.]), 'C': array([  0.        ,   0.        ,   0.        , -33.33333333]), 'D': array([-100.,    0.,    0.,    0.])}\n",
      "[Comp: Mg1, Comp: Ca1, Comp: Sr1, Comp: O2, Comp: H2, Comp: Sr1 Ca1 Mg1 O3]\n",
      "(CompositionEnergy(energy=0.0, source='a'), 0.0)\n"
     ]
    }
   ],
   "source": [
    "print(cpd.target.elements)\n",
    "print(cpd.dim)\n",
    "print(cpd.target_vertices)\n",
    "print(cpd.all_compounds)\n",
    "print(cpd.impurity_abs_energy(Element.H, label=\"A\"))"
   ],
   "metadata": {
    "collapsed": false,
    "pycharm": {
     "name": "#%%\n"
    }
   }
  },
  {
   "cell_type": "code",
   "execution_count": 3,
   "outputs": [],
   "source": [
    "structure = Structure(Lattice.cubic(1), species=[\"O\"] * 2, coords=[[0]*3]*2)\n",
    "defect_structure = Structure(Lattice.cubic(1), species=[\"O\"] * 1, coords=[[0]*3])\n",
    "\n",
    "common = dict(site_symmetry=\"1\",\n",
    "             magnetization=0.0,\n",
    "             kpoint_coords=[[0]*3],\n",
    "             kpoint_weights=[1.0],\n",
    "             potentials=[0.0],\n",
    "             vbm_info=BandEdge(0.0),\n",
    "             cbm_info=BandEdge(1.0),\n",
    "             fermi_level=0.0)\n",
    "\n",
    "perfect = CalcResults(structure=structure,energy=0, **common)\n",
    "defects = [CalcResults(structure=defect_structure, energy=1.0, **common),\n",
    "          CalcResults(structure=defect_structure, energy=0.5, **common)]\n",
    "\n",
    "de_common = dict(name=\"Va_O1\",\n",
    "                structure=defect_structure, site_symmetry=\"1\",\n",
    "                perturbed_structure=defect_structure, defect_center=[[0]*3])\n",
    "\n",
    "defect_entries = [DefectEntry(charge=0, **de_common),\n",
    "                 DefectEntry(charge=1, **de_common)]\n",
    "\n",
    "corrections = [ManualCorrection(correction_energy=1.0),\n",
    "              ManualCorrection(correction_energy=1.0)]\n",
    "\n",
    "cpd_e_component = CpdEnergyComponent(cpd_plot_info,\n",
    "                                     perfect,\n",
    "                                     defects,\n",
    "                                     defect_entries,\n",
    "                                     corrections,\n",
    "                                     unitcell_vbm=0.0,\n",
    "                                     unitcell_cbm=1.0)\n",
    "\n",
    "my_layout = html.Div([Column(cpd_e_component.layout)])\n",
    "ctc.register_crystal_toolkit(app=app, layout=my_layout, cache=None)"
   ],
   "metadata": {
    "collapsed": false,
    "pycharm": {
     "name": "#%%\n"
    }
   }
  },
  {
   "cell_type": "code",
   "execution_count": 4,
   "outputs": [
    {
     "name": "stdout",
     "output_type": "stream",
     "text": [
      "Dash app running on http://127.0.0.1:8098/\n"
     ]
    }
   ],
   "source": [
    "#app.run_server(port=8098)\n",
    "app.run_server(mode='inline', port=8096)\n"
   ],
   "metadata": {
    "collapsed": false,
    "pycharm": {
     "name": "#%%\n"
    }
   }
  }
 ],
 "metadata": {
  "kernelspec": {
   "display_name": "Python 3",
   "language": "python",
   "name": "python3"
  },
  "language_info": {
   "codemirror_mode": {
    "name": "ipython",
    "version": 2
   },
   "file_extension": ".py",
   "mimetype": "text/x-python",
   "name": "python",
   "nbconvert_exporter": "python",
   "pygments_lexer": "ipython2",
   "version": "2.7.6"
  }
 },
 "nbformat": 4,
 "nbformat_minor": 0
}
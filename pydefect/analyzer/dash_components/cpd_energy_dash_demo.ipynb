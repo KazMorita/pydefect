{
 "cells": [
  {
   "cell_type": "code",
   "execution_count": 1,
   "metadata": {
    "collapsed": true,
    "pycharm": {
     "name": "#%%\n"
    }
   },
   "outputs": [
    {
     "name": "stdout",
     "output_type": "stream",
     "text": [
      "Dash app running on http://127.0.0.1:8085/\n"
     ]
    }
   ],
   "source": [
    "from crystal_toolkit.helpers.layouts import Columns, Column\n",
    "from dash import Dash\n",
    "from jupyter_dash import JupyterDash\n",
    "from pydefect.analyzer.calc_results import CalcResults\n",
    "from pydefect.analyzer.dash_components.cpd_energy_dash import CpdEnergyComponent\n",
    "from pydefect.chem_pot_diag.chem_pot_diag import ChemPotDiag, CpdPlotInfo, \\\n",
    "    CompositionEnergy\n",
    "from pydefect.corrections.manual_correction import ManualCorrection\n",
    "from pydefect.input_maker.defect_entry import DefectEntry\n",
    "from pymatgen import Composition, Structure, Lattice\n",
    "import dash_html_components as html\n",
    "import crystal_toolkit.components as ctc\n",
    "from dash.dependencies import Input, Output, State\n",
    "import json\n",
    "\n",
    "app = JupyterDash(__name__)\n",
    "from vise.analyzer.band_edge_properties import BandEdge\n",
    "#app = Dash()\n",
    "\n",
    "comp_energies = {\n",
    "    CompositionEnergy(Composition(\"Mg\"), 0.0, \"a\"),\n",
    "    CompositionEnergy(Composition(\"O\"), 0.0, \"a\"),\n",
    "    CompositionEnergy(Composition(\"MgO\"), -1.0, \"a\")}\n",
    "cpd = ChemPotDiag(comp_energies, target=Composition(\"MgO\"))\n",
    "cpd_plot_info = CpdPlotInfo(cpd)\n",
    "\n",
    "structure = Structure(Lattice.cubic(1), species=[\"O\"] * 2, coords=[[0]*3]*2)\n",
    "defect_structure = Structure(Lattice.cubic(1), species=[\"O\"] * 1, coords=[[0]*3])\n",
    "\n",
    "common = dict(site_symmetry=\"1\",\n",
    "              magnetization=0.0,\n",
    "              kpoint_coords=[[0]*3],\n",
    "              kpoint_weights=[1.0],\n",
    "              potentials=[0.0],\n",
    "              vbm_info=BandEdge(0.0),\n",
    "              cbm_info=BandEdge(1.0),\n",
    "              fermi_level=0.0)\n",
    "\n",
    "perfect = CalcResults(structure=structure,energy=0, **common)\n",
    "defects = [CalcResults(structure=defect_structure, energy=1.0, **common),\n",
    "           CalcResults(structure=defect_structure, energy=0.5, **common)]\n",
    "\n",
    "de_common = dict(name=\"Va_O1\",\n",
    "                 structure=defect_structure, site_symmetry=\"1\",\n",
    "                 perturbed_structure=defect_structure, defect_center=[[0]*3])\n",
    "\n",
    "defect_entries = [DefectEntry(charge=0, **de_common),\n",
    "                  DefectEntry(charge=1, **de_common)]\n",
    "\n",
    "corrections = [ManualCorrection(correction_energy=1.0),\n",
    "               ManualCorrection(correction_energy=1.0)]\n",
    "\n",
    "component = CpdEnergyComponent(cpd_plot_info=cpd_plot_info,\n",
    "                               perfect=perfect,\n",
    "                               defects=defects,\n",
    "                               defect_entries=defect_entries,\n",
    "                               corrections=corrections)\n",
    "\n",
    "# example layout to demonstrate capabilities of component\n",
    "pre = html.Pre(id='click-dataxxxxx',\n",
    "               style={'border': 'thin lightgrey solid', 'overflowX': 'scroll'})\n",
    "#my_layout = html.Div(Columns([Column(component.layout), Column(pre)]))\n",
    "my_layout = html.Div([component.layout, pre])\n",
    "\n",
    "@app.callback(\n",
    "    Output('click-dataxxxxx', 'children'),\n",
    "    [Input(component.id(), 'clickData')])\n",
    "def display_click_data(clickData):\n",
    "    return json.dumps(clickData, indent=2)\n",
    "\n",
    "ctc.register_crystal_toolkit(app=app, layout=my_layout, cache=None)\n",
    "\n",
    "app.run_server(port=8085)\n",
    "#app.run_server(mode='inline')\n",
    "\n"
   ]
  }
 ],
 "metadata": {
  "kernelspec": {
   "display_name": "Python 3",
   "language": "python",
   "name": "python3"
  },
  "language_info": {
   "codemirror_mode": {
    "name": "ipython",
    "version": 2
   },
   "file_extension": ".py",
   "mimetype": "text/x-python",
   "name": "python",
   "nbconvert_exporter": "python",
   "pygments_lexer": "ipython2",
   "version": "2.7.6"
  }
 },
 "nbformat": 4,
 "nbformat_minor": 0
}